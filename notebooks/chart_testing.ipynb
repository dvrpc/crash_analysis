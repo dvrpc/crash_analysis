{
 "cells": [
  {
   "cell_type": "code",
   "execution_count": 69,
   "metadata": {},
   "outputs": [],
   "source": [
    "import pandas as pd\n",
    "import seaborn as sns\n",
    "import matplotlib.pyplot as plt\n",
    "from dotenv import find_dotenv, load_dotenv\n",
    "from sqlalchemy import create_engine\n",
    "import os\n",
    "\n",
    "#copy from .env to use in notebook locally\n",
    "gis_url = \n",
    "analysis_url = \n",
    "data_root = \n",
    "\n",
    "ANALYSIS_URL = analysis_url\n",
    "GIS_URL = gis_url\n",
    "ENGINE = create_engine(ANALYSIS_URL)\n",
    "GIS_ENGINE = create_engine(GIS_URL)\n",
    "DATA_ROOT = data_root"
   ]
  },
  {
   "cell_type": "code",
   "execution_count": 44,
   "metadata": {},
   "outputs": [],
   "source": [
    "#define study area name so the SQL querey knows the name of the table\n",
    "sa_name = \"hunting_park\"\n",
    "\n",
    "#name the sql query\n",
    "q_nonpdo_by_year = fr\"\"\" \n",
    "select count (crash_table), crash_table.crash_year\n",
    "\tfrom {sa_name}_crashes as crash_table \n",
    "\twhere not (crash_table.max_severity_level = '0')\n",
    "\tgroup by crash_table.crash_year; \n",
    "    \"\"\""
   ]
  },
  {
   "cell_type": "code",
   "execution_count": 45,
   "metadata": {},
   "outputs": [],
   "source": [
    "#run the sql query and create dataframe from results\n",
    "nonpdo_by_year = pd.read_sql(\n",
    "    q_nonpdo_by_year, \n",
    "    con = ENGINE,\n",
    ")"
   ]
  },
  {
   "cell_type": "code",
   "execution_count": 51,
   "metadata": {},
   "outputs": [
    {
     "data": {
      "image/png": "[encoded data removed]",
      "text/plain": [
       "<Figure size 432x288 with 1 Axes>"
      ]
     },
     "metadata": {
      "needs_background": "light"
     },
     "output_type": "display_data"
    }
   ],
   "source": [
    "#configure the plot and view\n",
    "fig = sns.barplot(data = nonpdo_by_year, x= \"crash_year\", y = \"count\",  color = \"blue\")\n",
    "plt.xlabel(\"Crash Year\")\n",
    "plt.ylabel(\"Number of Crashes\")\n",
    "plt.show(fig)"
   ]
  },
  {
   "cell_type": "code",
   "execution_count": 52,
   "metadata": {},
   "outputs": [],
   "source": [
    "#query that will result in a pie chart\n",
    "q_ksi_by_type = fr\"\"\"select count (crash_table), crash_table.collision_type\n",
    "\tfrom {sa_name}_crashes as crash_table \n",
    "\twhere (crash_table.max_severity_level = '1' or crash_table.max_severity_level = '2')\n",
    "\tgroup by crash_table.collision_type;\"\"\"\n",
    "\n",
    "ksi_by_type = pd.read_sql(\n",
    "    q_ksi_by_type, \n",
    "    con = ENGINE,\n",
    ")"
   ]
  },
  {
   "cell_type": "code",
   "execution_count": 62,
   "metadata": {},
   "outputs": [
    {
     "data": {
      "text/html": [
       "<div>\n",
       "<style scoped>\n",
       "    .dataframe tbody tr th:only-of-type {\n",
       "        vertical-align: middle;\n",
       "    }\n",
       "\n",
       "    .dataframe tbody tr th {\n",
       "        vertical-align: top;\n",
       "    }\n",
       "\n",
       "    .dataframe thead th {\n",
       "        text-align: right;\n",
       "    }\n",
       "</style>\n",
       "<table border=\"1\" class=\"dataframe\">\n",
       "  <thead>\n",
       "    <tr style=\"text-align: right;\">\n",
       "      <th></th>\n",
       "      <th>count</th>\n",
       "      <th>collision_type</th>\n",
       "    </tr>\n",
       "  </thead>\n",
       "  <tbody>\n",
       "    <tr>\n",
       "      <th>0</th>\n",
       "      <td>3</td>\n",
       "      <td>4</td>\n",
       "    </tr>\n",
       "    <tr>\n",
       "      <th>1</th>\n",
       "      <td>13</td>\n",
       "      <td>8</td>\n",
       "    </tr>\n",
       "    <tr>\n",
       "      <th>2</th>\n",
       "      <td>2</td>\n",
       "      <td>5</td>\n",
       "    </tr>\n",
       "    <tr>\n",
       "      <th>3</th>\n",
       "      <td>3</td>\n",
       "      <td>1</td>\n",
       "    </tr>\n",
       "  </tbody>\n",
       "</table>\n",
       "</div>"
      ],
      "text/plain": [
       "   count collision_type\n",
       "0      3              4\n",
       "1     13              8\n",
       "2      2              5\n",
       "3      3              1"
      ]
     },
     "execution_count": 62,
     "metadata": {},
     "output_type": "execute_result"
    }
   ],
   "source": [
    "#view the resulting dataframe\n",
    "ksi_by_type"
   ]
  },
  {
   "cell_type": "code",
   "execution_count": 68,
   "metadata": {},
   "outputs": [
    {
     "data": {
      "text/plain": [
       "([<matplotlib.patches.Wedge at 0x139f2e99280>,\n",
       "  <matplotlib.patches.Wedge at 0x139f2e7b3a0>,\n",
       "  <matplotlib.patches.Wedge at 0x139f2e7b4c0>,\n",
       "  <matplotlib.patches.Wedge at 0x139f2e7bcd0>],\n",
       " [Text(0.9910657451172095, 0.47727213291294374, '4'),\n",
       "  Text(-1.0511301225036391, 0.32423057469258654, '8'),\n",
       "  Text(0.4018753196846571, -1.0239610478081453, '5'),\n",
       "  Text(0.9910658568307873, -0.47727190093725136, '1')])"
      ]
     },
     "execution_count": 68,
     "metadata": {},
     "output_type": "execute_result"
    },
    {
     "data": {
      "image/png": "[encoded data removed]",
      "text/plain": [
       "<Figure size 432x288 with 1 Axes>"
      ]
     },
     "metadata": {},
     "output_type": "display_data"
    }
   ],
   "source": [
    "#define your pie chart colors if desired (just as an example; can also use hex codes)\n",
    "pie_colors = [\"pink\", \"#4CAF50\", \"yellow\", \"teal\"]\n",
    "#create the pie chart pointing the data and existing variables\n",
    "plt.pie(ksi_by_type[\"count\"], labels = ksi_by_type[\"collision_type\"], colors = pie_colors)"
   ]
  },
  {
   "cell_type": "code",
   "execution_count": null,
   "metadata": {},
   "outputs": [],
   "source": [
    "#i have no clue what the collision types numbers represent, but you can also define them here. they will show up in the same order as they are in the table\n",
    "plt.pie(ksi_by_type[\"count\"], labels = ksi_by_type[\"collision_type\"], colors = pie_colors)"
   ]
  },
  {
   "cell_type": "markdown",
   "metadata": {},
   "source": [
    "References for costimzing charts: https://www.w3schools.com/python/matplotlib_pie_charts.asp\n",
    "https://matplotlib.org/stable/gallery/pie_and_polar_charts/bar_of_pie.html\n",
    "https://www.geeksforgeeks.org/seaborn-barplot-method-in-python/\n"
   ]
  },
  {
   "cell_type": "markdown",
   "metadata": {},
   "source": []
  }
 ],
 "metadata": {
  "kernelspec": {
   "display_name": "Python 3.9.13",
   "language": "python",
   "name": "python3"
  },
  "language_info": {
   "codemirror_mode": {
    "name": "ipython",
    "version": 3
   },
   "file_extension": ".py",
   "mimetype": "text/x-python",
   "name": "python",
   "nbconvert_exporter": "python",
   "pygments_lexer": "ipython3",
   "version": "3.9.13"
  },
  "orig_nbformat": 4,
  "vscode": {
   "interpreter": {
    "hash": "778f3b113e1660b7b51ae649aa3196018e13a271bd0d95a282e8560540ab6340"
   }
  }
 },
 "nbformat": 4,
 "nbformat_minor": 2
}
