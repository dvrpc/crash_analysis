{
 "cells": [
  {
   "cell_type": "code",
   "execution_count": 2,
   "metadata": {},
   "outputs": [],
   "source": [
    "import pandas as pd\n",
    "from sqlalchemy_utils import database_exists, create_database\n",
    "from sqlalchemy import create_engine"
   ]
  },
  {
   "cell_type": "code",
   "execution_count": 3,
   "metadata": {},
   "outputs": [],
   "source": [
    "gis_url = #copy from .env\n",
    "analysis_url =  #copy from .env\n",
    "\n",
    "ENGINE = create_engine(analysis_url)\n",
    "GIS_ENGINE = create_engine(gis_url)"
   ]
  },
  {
   "cell_type": "code",
   "execution_count": 4,
   "metadata": {},
   "outputs": [],
   "source": [
    "sa_name = \"hunting_park\""
   ]
  },
  {
   "cell_type": "code",
   "execution_count": 5,
   "metadata": {},
   "outputs": [
    {
     "data": {
      "text/plain": [
       "<sqlalchemy.engine.cursor.LegacyCursorResult at 0x26472c79e50>"
      ]
     },
     "execution_count": 5,
     "metadata": {},
     "output_type": "execute_result"
    }
   ],
   "source": [
    "Q_person_view_nonpdo = fr\"\"\"\n",
    "CREATE OR REPLACE VIEW person_vehicle_nonpdo AS(\n",
    "\twith tblA AS(\t\n",
    "\t\tselect \n",
    "\t\t\tp.crn,\n",
    "\t\t\tp.unit_num,\n",
    "\t\t\tp.person_type,\n",
    "\t\t\tp.inj_severity,\n",
    "\t\t\tv.unit_type,\n",
    "\t\t\tconcat(text(p.crn), text(p.unit_num)) as joinid\n",
    "\t\tfrom person_data  p\n",
    "\t\tleft join vehicle_data  v \n",
    "\t\ton concat(text(p.crn), text(p.unit_num)) = concat(text(v.crn), text(v.unit_num))\n",
    "\t\twhere not(p.inj_severity = '0') \n",
    "\t\t)\n",
    "\tselect \n",
    "\t\ta.*\n",
    "\tfrom tblA a\n",
    "\tright join {sa_name}_crashes b\n",
    "\ton a.crn = b.crn   \n",
    "\t);\n",
    "\"\"\"\n",
    "\n",
    "Q_person_view_ksi = fr\"\"\"\n",
    "CREATE OR REPLACE VIEW person_vehicle_ksi AS(\n",
    "    with tblA AS(\t\n",
    "\t\tselect \n",
    "\t\t\tp.crn,\n",
    "\t\t\tp.unit_num,\n",
    "\t\t\tp.person_type,\n",
    "\t\t\tp.inj_severity,\n",
    "\t\t\tv.unit_type,\n",
    "\t\t\tconcat(text(p.crn), text(p.unit_num)) as joinid\n",
    "\t\tfrom person_data  p\n",
    "\t\tleft join vehicle_data  v \n",
    "\t\ton concat(text(p.crn), text(p.unit_num)) = concat(text(v.crn), text(v.unit_num))\n",
    "\t\twhere p.inj_severity = '1' or p.inj_severity ='2'\n",
    "\t)\n",
    "\tselect \n",
    "\t\ta.*\n",
    "\tfrom tblA a\n",
    "\tright join {sa_name}_crashes b\n",
    "\ton a.crn = b.crn   \n",
    ");\n",
    "\"\"\"\n",
    "ENGINE.execute(Q_person_view_nonpdo)\n",
    "ENGINE.execute(Q_person_view_ksi)\n"
   ]
  },
  {
   "cell_type": "code",
   "execution_count": 6,
   "metadata": {},
   "outputs": [],
   "source": [
    "#function to run queries to could specific types of crashes\n",
    "def calculate(view_name):\n",
    "    #bike\n",
    "    q_bike = fr\"\"\"\n",
    "        select count(*)\n",
    "        from {view_name}\n",
    "        where unit_type = '11'\n",
    "        and person_type = '1';\n",
    "    \"\"\"\n",
    "    bike = pd.read_sql(\n",
    "        q_bike,\n",
    "        con = ENGINE\n",
    "    )\n",
    "\n",
    "    bike['type'] = 'bike'\n",
    "\n",
    "    #pedestrians\n",
    "    q_ped = fr\"\"\"\n",
    "        select count(*)\n",
    "        from {view_name}\n",
    "        where person_type = '7';\n",
    "    \"\"\"\n",
    "    ped = pd.read_sql(\n",
    "        q_ped,\n",
    "        con = ENGINE\n",
    "    )\n",
    "\n",
    "    ped['type'] = 'ped'\n",
    "\n",
    "    #vehicle occupants\n",
    "    q_veh = fr\"\"\"\n",
    "        select count(*)\n",
    "        from {view_name}\n",
    "        where (person_type = '1' or person_type = '2')\n",
    "        and not(unit_type = '11');\n",
    "    \"\"\"\n",
    "    veh = pd.read_sql(\n",
    "        q_veh,\n",
    "        con = ENGINE\n",
    "    )\n",
    "    veh['type'] = 'veh'\n",
    "\n",
    "    #other\n",
    "    q_other = fr\"\"\"\n",
    "        select count(*)\n",
    "        from {view_name}\n",
    "        where person_type in ('8','9');\n",
    "    \"\"\"\n",
    "    other = pd.read_sql(\n",
    "        q_other,\n",
    "        con = ENGINE\n",
    "    )\n",
    "    other['type'] = 'other'\n",
    "\n",
    "    df = pd.concat([bike, ped, veh, other], ignore_index = True)\n",
    "    return df\n",
    "\n"
   ]
  },
  {
   "cell_type": "code",
   "execution_count": 7,
   "metadata": {},
   "outputs": [
    {
     "data": {
      "text/html": [
       "<div>\n",
       "<style scoped>\n",
       "    .dataframe tbody tr th:only-of-type {\n",
       "        vertical-align: middle;\n",
       "    }\n",
       "\n",
       "    .dataframe tbody tr th {\n",
       "        vertical-align: top;\n",
       "    }\n",
       "\n",
       "    .dataframe thead th {\n",
       "        text-align: right;\n",
       "    }\n",
       "</style>\n",
       "<table border=\"1\" class=\"dataframe\">\n",
       "  <thead>\n",
       "    <tr style=\"text-align: right;\">\n",
       "      <th></th>\n",
       "      <th>count</th>\n",
       "      <th>type</th>\n",
       "    </tr>\n",
       "  </thead>\n",
       "  <tbody>\n",
       "    <tr>\n",
       "      <th>0</th>\n",
       "      <td>5</td>\n",
       "      <td>bike</td>\n",
       "    </tr>\n",
       "    <tr>\n",
       "      <th>1</th>\n",
       "      <td>73</td>\n",
       "      <td>ped</td>\n",
       "    </tr>\n",
       "    <tr>\n",
       "      <th>2</th>\n",
       "      <td>299</td>\n",
       "      <td>veh</td>\n",
       "    </tr>\n",
       "    <tr>\n",
       "      <th>3</th>\n",
       "      <td>8</td>\n",
       "      <td>other</td>\n",
       "    </tr>\n",
       "  </tbody>\n",
       "</table>\n",
       "</div>"
      ],
      "text/plain": [
       "   count   type\n",
       "0      5   bike\n",
       "1     73    ped\n",
       "2    299    veh\n",
       "3      8  other"
      ]
     },
     "execution_count": 7,
     "metadata": {},
     "output_type": "execute_result"
    }
   ],
   "source": [
    "#Non-pdo sumamry\n",
    "calculate('person_vehicle_nonpdo')\n"
   ]
  },
  {
   "cell_type": "code",
   "execution_count": 8,
   "metadata": {},
   "outputs": [
    {
     "data": {
      "text/html": [
       "<div>\n",
       "<style scoped>\n",
       "    .dataframe tbody tr th:only-of-type {\n",
       "        vertical-align: middle;\n",
       "    }\n",
       "\n",
       "    .dataframe tbody tr th {\n",
       "        vertical-align: top;\n",
       "    }\n",
       "\n",
       "    .dataframe thead th {\n",
       "        text-align: right;\n",
       "    }\n",
       "</style>\n",
       "<table border=\"1\" class=\"dataframe\">\n",
       "  <thead>\n",
       "    <tr style=\"text-align: right;\">\n",
       "      <th></th>\n",
       "      <th>count</th>\n",
       "      <th>type</th>\n",
       "    </tr>\n",
       "  </thead>\n",
       "  <tbody>\n",
       "    <tr>\n",
       "      <th>0</th>\n",
       "      <td>1</td>\n",
       "      <td>bike</td>\n",
       "    </tr>\n",
       "    <tr>\n",
       "      <th>1</th>\n",
       "      <td>15</td>\n",
       "      <td>ped</td>\n",
       "    </tr>\n",
       "    <tr>\n",
       "      <th>2</th>\n",
       "      <td>9</td>\n",
       "      <td>veh</td>\n",
       "    </tr>\n",
       "    <tr>\n",
       "      <th>3</th>\n",
       "      <td>0</td>\n",
       "      <td>other</td>\n",
       "    </tr>\n",
       "  </tbody>\n",
       "</table>\n",
       "</div>"
      ],
      "text/plain": [
       "   count   type\n",
       "0      1   bike\n",
       "1     15    ped\n",
       "2      9    veh\n",
       "3      0  other"
      ]
     },
     "execution_count": 8,
     "metadata": {},
     "output_type": "execute_result"
    }
   ],
   "source": [
    "#KSI summary\n",
    "calculate('person_vehicle_ksi')"
   ]
  },
  {
   "cell_type": "code",
   "execution_count": null,
   "metadata": {},
   "outputs": [],
   "source": []
  }
 ],
 "metadata": {
  "kernelspec": {
   "display_name": "Python 3.9.13",
   "language": "python",
   "name": "python3"
  },
  "language_info": {
   "codemirror_mode": {
    "name": "ipython",
    "version": 3
   },
   "file_extension": ".py",
   "mimetype": "text/x-python",
   "name": "python",
   "nbconvert_exporter": "python",
   "pygments_lexer": "ipython3",
   "version": "3.9.13"
  },
  "orig_nbformat": 4,
  "vscode": {
   "interpreter": {
    "hash": "778f3b113e1660b7b51ae649aa3196018e13a271bd0d95a282e8560540ab6340"
   }
  }
 },
 "nbformat": 4,
 "nbformat_minor": 2
}
